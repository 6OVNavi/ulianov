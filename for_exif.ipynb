{
  "nbformat": 4,
  "nbformat_minor": 0,
  "metadata": {
    "colab": {
      "name": "for exif.ipynb",
      "provenance": []
    },
    "kernelspec": {
      "name": "python3",
      "display_name": "Python 3"
    },
    "language_info": {
      "name": "python"
    },
    "accelerator": "GPU",
    "gpuClass": "standard"
  },
  "cells": [
    {
      "cell_type": "code",
      "execution_count": 25,
      "metadata": {
        "id": "O8a8e6rNh9Ui"
      },
      "outputs": [],
      "source": [
        "import pandas as pd"
      ]
    },
    {
      "cell_type": "code",
      "source": [
        "train=pd.read_csv('/content/drive/MyDrive/ulianov/train_exif.csv')\n",
        "test=pd.read_csv('/content/drive/MyDrive/ulianov/test_exif.csv')"
      ],
      "metadata": {
        "id": "k7lrnvI8iBRe"
      },
      "execution_count": 26,
      "outputs": []
    },
    {
      "cell_type": "code",
      "source": [
        "train['width']=train['x_max']-train['x_min']\n",
        "train['height']=train['y_max']-train['y_min']"
      ],
      "metadata": {
        "id": "ibn1nRymiHVC"
      },
      "execution_count": 27,
      "outputs": []
    },
    {
      "cell_type": "code",
      "source": [
        "drops=['image_name','class']\n",
        "\n",
        "train=train.drop(columns=drops)\n",
        "\n"
      ],
      "metadata": {
        "id": "C7fMFDvJiS3z"
      },
      "execution_count": 28,
      "outputs": []
    },
    {
      "cell_type": "code",
      "source": [
        "!pip install catboost"
      ],
      "metadata": {
        "colab": {
          "base_uri": "https://localhost:8080/"
        },
        "id": "vEq8rGI9ijXH",
        "outputId": "8a92b89f-441c-49dd-ac99-153bf998d693"
      },
      "execution_count": 29,
      "outputs": [
        {
          "output_type": "stream",
          "name": "stdout",
          "text": [
            "Looking in indexes: https://pypi.org/simple, https://us-python.pkg.dev/colab-wheels/public/simple/\n",
            "Requirement already satisfied: catboost in /usr/local/lib/python3.7/dist-packages (1.0.6)\n",
            "Requirement already satisfied: numpy>=1.16.0 in /usr/local/lib/python3.7/dist-packages (from catboost) (1.21.6)\n",
            "Requirement already satisfied: pandas>=0.24.0 in /usr/local/lib/python3.7/dist-packages (from catboost) (1.3.5)\n",
            "Requirement already satisfied: graphviz in /usr/local/lib/python3.7/dist-packages (from catboost) (0.10.1)\n",
            "Requirement already satisfied: matplotlib in /usr/local/lib/python3.7/dist-packages (from catboost) (3.2.2)\n",
            "Requirement already satisfied: plotly in /usr/local/lib/python3.7/dist-packages (from catboost) (5.5.0)\n",
            "Requirement already satisfied: scipy in /usr/local/lib/python3.7/dist-packages (from catboost) (1.7.3)\n",
            "Requirement already satisfied: six in /usr/local/lib/python3.7/dist-packages (from catboost) (1.15.0)\n",
            "Requirement already satisfied: python-dateutil>=2.7.3 in /usr/local/lib/python3.7/dist-packages (from pandas>=0.24.0->catboost) (2.8.2)\n",
            "Requirement already satisfied: pytz>=2017.3 in /usr/local/lib/python3.7/dist-packages (from pandas>=0.24.0->catboost) (2022.1)\n",
            "Requirement already satisfied: cycler>=0.10 in /usr/local/lib/python3.7/dist-packages (from matplotlib->catboost) (0.11.0)\n",
            "Requirement already satisfied: kiwisolver>=1.0.1 in /usr/local/lib/python3.7/dist-packages (from matplotlib->catboost) (1.4.4)\n",
            "Requirement already satisfied: pyparsing!=2.0.4,!=2.1.2,!=2.1.6,>=2.0.1 in /usr/local/lib/python3.7/dist-packages (from matplotlib->catboost) (3.0.9)\n",
            "Requirement already satisfied: typing-extensions in /usr/local/lib/python3.7/dist-packages (from kiwisolver>=1.0.1->matplotlib->catboost) (4.1.1)\n",
            "Requirement already satisfied: tenacity>=6.2.0 in /usr/local/lib/python3.7/dist-packages (from plotly->catboost) (8.0.1)\n"
          ]
        }
      ]
    },
    {
      "cell_type": "code",
      "source": [
        "pd.set_option('display.max_columns', 500)\n",
        "from catboost import CatBoostRegressor"
      ],
      "metadata": {
        "id": "CtooTMU_ilRj"
      },
      "execution_count": 30,
      "outputs": []
    },
    {
      "cell_type": "code",
      "source": [
        "#print(train)\n",
        "drops=['Make','Model','DateTime','HostComputer','ExifVersion','DateTimeOriginal',\n",
        "       'DateTimeDigitized','OffsetTime','OffsetTimeOriginal','OffsetTimeDigitized','SceneType',\n",
        "       'LensMake','5']\n",
        "\n",
        "train=pd.get_dummies(train,columns=['LensModel','1','3','12','16','23','Software'])\n",
        "test=pd.get_dummies(test,columns=['LensModel','1','3','12','16','23','Software'])\n",
        "\n",
        "train=train.drop(columns=drops)\n",
        "test=test.drop(columns=drops)\n",
        "print(train)"
      ],
      "metadata": {
        "colab": {
          "base_uri": "https://localhost:8080/"
        },
        "id": "oHeHJCzpml2_",
        "outputId": "4943f655-6ff9-4383-8abb-24a3d4216930"
      },
      "execution_count": 31,
      "outputs": [
        {
          "output_type": "stream",
          "name": "stdout",
          "text": [
            "     distance       x_min        y_min        x_max        y_max      conf  \\\n",
            "0        4.88  219.604050   402.193756   425.297180   455.929901  0.842233   \n",
            "1        1.54  614.961609  1326.627197  1302.240479  1479.057617  0.864385   \n",
            "2        3.68  298.759644   461.289703   591.384766   529.101013  0.865617   \n",
            "3        2.22  501.177734   748.439636   983.731384   856.448853  0.874792   \n",
            "4        3.73  294.875153   471.319153   591.095154   539.254272  0.868262   \n",
            "..        ...         ...          ...          ...          ...       ...   \n",
            "525      3.00  306.027252   650.916504   604.249329   720.184814  0.865165   \n",
            "526      3.46  269.867737   575.216919   522.212463   635.551270  0.865655   \n",
            "527      3.91  249.696381   501.747467   478.498352   556.968689  0.857690   \n",
            "528      5.20  198.687332   382.187531   368.827576   425.248566  0.837795   \n",
            "529      5.54  181.400436   356.746887   344.161957   398.403748  0.829634   \n",
            "\n",
            "     ResolutionUnit  ExifOffset  Orientation  XResolution  YResolution  \\\n",
            "0                 2         226            1         72.0         72.0   \n",
            "1                 2         226            1         72.0         72.0   \n",
            "2                 2         226            1         72.0         72.0   \n",
            "3                 2         226            1         72.0         72.0   \n",
            "4                 2         226            1         72.0         72.0   \n",
            "..              ...         ...          ...          ...          ...   \n",
            "525               2         226            1         72.0         72.0   \n",
            "526               2         226            1         72.0         72.0   \n",
            "527               2         226            1         72.0         72.0   \n",
            "528               2         226            1         72.0         72.0   \n",
            "529               2         226            1         72.0         72.0   \n",
            "\n",
            "     ShutterSpeedValue  ApertureValue  BrightnessValue  ExposureBiasValue  \\\n",
            "0             9.399213       2.526069         9.449951                0.0   \n",
            "1             8.273357       2.526069         8.591768                0.0   \n",
            "2             7.589494       2.526069         8.095380                0.0   \n",
            "3             6.931216       2.526069         7.876880                0.0   \n",
            "4             7.516091       2.526069         7.988264                0.0   \n",
            "..                 ...            ...              ...                ...   \n",
            "525           8.848754       2.526069         9.043770                0.0   \n",
            "526           9.041304       2.526069         9.130107                0.0   \n",
            "527           9.209615       2.526069         9.391654                0.0   \n",
            "528           9.526427       2.526069         9.727569                0.0   \n",
            "529           9.667126       2.526069         9.740512                0.0   \n",
            "\n",
            "     MeteringMode  Flash  FocalLength  ColorSpace  ExifImageWidth  \\\n",
            "0               5     16         1.54       65535            4032   \n",
            "1               5     16         1.54       65535            4032   \n",
            "2               5     16         1.54       65535            4032   \n",
            "3               5     16         1.54       65535            4032   \n",
            "4               5     16         1.54       65535            4032   \n",
            "..            ...    ...          ...         ...             ...   \n",
            "525             5     16         1.54       65535            4032   \n",
            "526             5     16         1.54       65535            4032   \n",
            "527             5     16         1.54       65535            4032   \n",
            "528             5     16         1.54       65535            4032   \n",
            "529             5     16         1.54       65535            4032   \n",
            "\n",
            "     DigitalZoomRatio  FocalLengthIn35mmFilm  SubsecTimeOriginal  \\\n",
            "0            1.234286                     16                 366   \n",
            "1            1.261051                     17                 852   \n",
            "2            1.261051                     17                  35   \n",
            "3            1.261051                     17                 528   \n",
            "4            1.286809                     17                 948   \n",
            "..                ...                    ...                 ...   \n",
            "525          1.022312                     14                 271   \n",
            "526          1.022312                     14                 996   \n",
            "527          1.022312                     14                 806   \n",
            "528          1.022312                     14                 128   \n",
            "529          1.022312                     14                 367   \n",
            "\n",
            "     SubsecTimeDigitized  ExifImageHeight  SensingMethod  ExposureTime  \\\n",
            "0                    366             3024              2      0.001481   \n",
            "1                    852             3024              2      0.003236   \n",
            "2                     35             3024              2      0.005181   \n",
            "3                    528             3024              2      0.008197   \n",
            "4                    948             3024              2      0.005464   \n",
            "..                   ...              ...            ...           ...   \n",
            "525                  271             3024              2      0.002169   \n",
            "526                  996             3024              2      0.001898   \n",
            "527                  806             3024              2      0.001689   \n",
            "528                  128             3024              2      0.001357   \n",
            "529                  367             3024              2      0.001230   \n",
            "\n",
            "     FNumber  ExposureProgram  ISOSpeedRatings  ExposureMode  WhiteBalance  \\\n",
            "0        2.4                2               20             0             0   \n",
            "1        2.4                2               20             0             0   \n",
            "2        2.4                2               20             0             0   \n",
            "3        2.4                2               20             0             0   \n",
            "4        2.4                2               20             0             0   \n",
            "..       ...              ...              ...           ...           ...   \n",
            "525      2.4                2               20             0             0   \n",
            "526      2.4                2               20             0             0   \n",
            "527      2.4                2               20             0             0   \n",
            "528      2.4                2               20             0             0   \n",
            "529      2.4                2               20             0             0   \n",
            "\n",
            "     CompositeImage     2     4           6   13          17          24  \\\n",
            "0                 2  54.0  48.0  181.602886  0.0  171.064606  171.064606   \n",
            "1                 2  54.0  48.0  181.625730  0.0  173.650040  173.650040   \n",
            "2                 2  54.0  48.0  181.614600  0.0  181.077057  181.077057   \n",
            "3                 2  54.0  48.0  181.749593  0.0  177.664597  177.664597   \n",
            "4                 2  54.0  48.0  182.375247  0.0  175.054428  175.054428   \n",
            "..              ...   ...   ...         ...  ...         ...         ...   \n",
            "525               2  54.0  48.0  182.396873  0.0  185.764580  185.764580   \n",
            "526               2  54.0  48.0  182.414981  0.0  186.664330  186.664330   \n",
            "527               2  54.0  48.0  182.409744  0.0  187.430138  187.430138   \n",
            "528               2  54.0  48.0  182.265877  0.0  188.708763  188.708763   \n",
            "529               2  54.0  48.0  182.503916  0.0  190.688438  190.688438   \n",
            "\n",
            "           31  21_gps  22_gps  23_gps  41_gps  42_gps  43_gps  lens1  lens2  \\\n",
            "0    5.166264    54.0    19.0   46.69    48.0    23.0   43.69   1.54   4.25   \n",
            "1    4.888787    54.0    19.0   45.99    48.0    23.0   43.31   1.54   4.25   \n",
            "2    4.927238    54.0    19.0   45.96    48.0    23.0   43.11   1.54   4.25   \n",
            "3    4.923932    54.0    19.0   46.00    48.0    23.0   43.21   1.54   4.25   \n",
            "4    4.788644    54.0    19.0   46.03    48.0    23.0   43.05   1.54   4.25   \n",
            "..        ...     ...     ...     ...     ...     ...     ...    ...    ...   \n",
            "525  4.970357    54.0    19.0   48.65    48.0    23.0   40.04   1.54   4.25   \n",
            "526  4.975434    54.0    19.0   48.68    48.0    23.0   40.01   1.54   4.25   \n",
            "527  5.036676    54.0    19.0   48.67    48.0    23.0   39.97   1.54   4.25   \n",
            "528  5.072028    54.0    19.0   48.62    48.0    23.0   40.05   1.54   4.25   \n",
            "529  4.988080    54.0    19.0   48.68    48.0    23.0   40.00   1.54   4.25   \n",
            "\n",
            "     lens3  subjcloc1  subjcloc2  subjcloc3  subjcloc4       width  \\\n",
            "0      1.8       2013       1512       2320       1391  205.693130   \n",
            "1      1.8       2015       1511       2322       1394  687.278870   \n",
            "2      1.8       2015       1511       2322       1394  292.625122   \n",
            "3      1.8       2015       1511       2322       1394  482.553650   \n",
            "4      1.8       2011       1512       2320       1394  296.220001   \n",
            "..     ...        ...        ...        ...        ...         ...   \n",
            "525    1.8       2015       1510       2323       1392  298.222076   \n",
            "526    1.8       2015       1510       2323       1392  252.344727   \n",
            "527    1.8       2015       1510       2323       1392  228.801971   \n",
            "528    1.8       2015       1510       2323       1392  170.140244   \n",
            "529    1.8       2015       1510       2323       1392  162.761520   \n",
            "\n",
            "         height  LensModel_iPhone 11 back dual wide camera 1.54mm f/2.4  \\\n",
            "0     53.736145                                                  1        \n",
            "1    152.430420                                                  1        \n",
            "2     67.811310                                                  1        \n",
            "3    108.009216                                                  1        \n",
            "4     67.935120                                                  1        \n",
            "..          ...                                                ...        \n",
            "525   69.268311                                                  1        \n",
            "526   60.334351                                                  1        \n",
            "527   55.221222                                                  1        \n",
            "528   43.061035                                                  1        \n",
            "529   41.656860                                                  1        \n",
            "\n",
            "     LensModel_iPhone 11 back dual wide camera 4.25mm f/1.8  \\\n",
            "0                                                    0        \n",
            "1                                                    0        \n",
            "2                                                    0        \n",
            "3                                                    0        \n",
            "4                                                    0        \n",
            "..                                                 ...        \n",
            "525                                                  0        \n",
            "526                                                  0        \n",
            "527                                                  0        \n",
            "528                                                  0        \n",
            "529                                                  0        \n",
            "\n",
            "     LensModel_iPhone 12 back dual wide camera 1.55mm f/2.4  1_N  3_E  12_K  \\\n",
            "0                                                    0         1    1     1   \n",
            "1                                                    0         1    1     1   \n",
            "2                                                    0         1    1     1   \n",
            "3                                                    0         1    1     1   \n",
            "4                                                    0         1    1     1   \n",
            "..                                                 ...       ...  ...   ...   \n",
            "525                                                  0         1    1     1   \n",
            "526                                                  0         1    1     1   \n",
            "527                                                  0         1    1     1   \n",
            "528                                                  0         1    1     1   \n",
            "529                                                  0         1    1     1   \n",
            "\n",
            "     16_T  23_T  Software_15.4.1  Software_15.5  \n",
            "0       1     1                0              1  \n",
            "1       1     1                0              1  \n",
            "2       1     1                0              1  \n",
            "3       1     1                0              1  \n",
            "4       1     1                0              1  \n",
            "..    ...   ...              ...            ...  \n",
            "525     1     1                0              1  \n",
            "526     1     1                0              1  \n",
            "527     1     1                0              1  \n",
            "528     1     1                0              1  \n",
            "529     1     1                0              1  \n",
            "\n",
            "[530 rows x 65 columns]\n"
          ]
        }
      ]
    },
    {
      "cell_type": "code",
      "source": [
        "X=train.drop('distance',axis=1)\n",
        "y=train['distance']\n",
        "seed=42\n",
        "cb=CatBoostRegressor(iterations=20000,random_state=seed,task_type='GPU',learning_rate=0.001)\n",
        "cb.fit(X,y,verbose=1000)\n",
        "\n",
        "\n",
        "test_vals=test.drop('image_name',axis=1)\n",
        "preds=cb.predict(test_vals)\n",
        "\n",
        "sub_d={\n",
        "    'image_name':list(test[['image_name']].values),\n",
        "    'distance':preds\n",
        "}\n",
        "\n",
        "sub=pd.DataFrame(sub_d)\n",
        "sub['image_name']=list(map(lambda x:x[0],sub['image_name']))\n",
        "print(sub)\n",
        "sub.to_csv('/content/drive/MyDrive/ulianov/res.csv',index=False,sep=';')"
      ],
      "metadata": {
        "colab": {
          "base_uri": "https://localhost:8080/"
        },
        "id": "DTdTcnq-ip0S",
        "outputId": "73c1805e-38b8-49ae-db75-20e1fc7328bf"
      },
      "execution_count": 32,
      "outputs": [
        {
          "output_type": "stream",
          "name": "stdout",
          "text": [
            "0:\tlearn: 1.7557985\ttotal: 33.9ms\tremaining: 11m 17s\n",
            "1000:\tlearn: 0.8866680\ttotal: 13.1s\tremaining: 4m 8s\n",
            "2000:\tlearn: 0.5619732\ttotal: 27.6s\tremaining: 4m 8s\n",
            "3000:\tlearn: 0.4440005\ttotal: 36.9s\tremaining: 3m 28s\n",
            "4000:\tlearn: 0.3929854\ttotal: 48s\tremaining: 3m 12s\n",
            "5000:\tlearn: 0.3650518\ttotal: 57.3s\tremaining: 2m 51s\n",
            "6000:\tlearn: 0.3458650\ttotal: 1m 6s\tremaining: 2m 35s\n",
            "7000:\tlearn: 0.3298487\ttotal: 1m 15s\tremaining: 2m 20s\n",
            "8000:\tlearn: 0.3156296\ttotal: 1m 25s\tremaining: 2m 7s\n",
            "9000:\tlearn: 0.3033050\ttotal: 1m 34s\tremaining: 1m 55s\n",
            "10000:\tlearn: 0.2920368\ttotal: 1m 44s\tremaining: 1m 44s\n",
            "11000:\tlearn: 0.2818786\ttotal: 1m 54s\tremaining: 1m 33s\n",
            "12000:\tlearn: 0.2730023\ttotal: 2m 3s\tremaining: 1m 22s\n",
            "13000:\tlearn: 0.2650082\ttotal: 2m 13s\tremaining: 1m 11s\n",
            "14000:\tlearn: 0.2581311\ttotal: 2m 22s\tremaining: 1m\n",
            "15000:\tlearn: 0.2519505\ttotal: 2m 31s\tremaining: 50.5s\n",
            "16000:\tlearn: 0.2465127\ttotal: 2m 41s\tremaining: 40.2s\n",
            "17000:\tlearn: 0.2414745\ttotal: 2m 52s\tremaining: 30.4s\n",
            "18000:\tlearn: 0.2370155\ttotal: 3m 1s\tremaining: 20.2s\n",
            "19000:\tlearn: 0.2327662\ttotal: 3m 11s\tremaining: 10s\n",
            "19999:\tlearn: 0.2289350\ttotal: 3m 20s\tremaining: 0us\n",
            "        image_name  distance\n",
            "0     img_2942.jpg  4.315651\n",
            "1     img_1646.jpg  2.581537\n",
            "2     img_2358.jpg  2.609783\n",
            "3     img_2640.jpg  3.574580\n",
            "4     img_2540.jpg  4.488800\n",
            "..             ...       ...\n",
            "516   img_1889.jpg  1.851655\n",
            "517   img_2703.jpg  1.516093\n",
            "518   img_2515.jpg  1.633007\n",
            "519   img_1888.jpg  2.815118\n",
            "520  img_2674.heic  2.257357\n",
            "\n",
            "[521 rows x 2 columns]\n"
          ]
        }
      ]
    }
  ]
}